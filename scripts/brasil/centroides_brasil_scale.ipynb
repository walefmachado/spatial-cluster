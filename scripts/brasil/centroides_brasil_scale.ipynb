{
 "cells": [
  {
   "cell_type": "markdown",
   "metadata": {},
   "source": [
    "# Centróides Brasil  \n",
    "\n",
    "### *Dados padronizados"
   ]
  },
  {
   "cell_type": "markdown",
   "metadata": {},
   "source": [
    "Para fazer commit: `Ctrl + Shift + m`   \n",
    "Reposotório: `spatial_cluster`   \n",
    "Caminho do arquivo: `scripts/sul/centroides_brasil.ipynb`"
   ]
  },
  {
   "cell_type": "markdown",
   "metadata": {
    "colab_type": "text",
    "id": "5XMQwe1lnHWH"
   },
   "source": [
    "## Bibliotecas"
   ]
  },
  {
   "cell_type": "code",
   "execution_count": 1,
   "metadata": {
    "colab": {},
    "colab_type": "code",
    "id": "IFD_NYtmoA5Y"
   },
   "outputs": [],
   "source": [
    "#!pip install geopandas==0.8.1\n",
    "#!pip install --upgrade pyshp\n",
    "#!pip install shapely==1.7.0\n",
    "#!pip install --upgrade descartes\n",
    "#!pip install mapclassify==2.3.0 libpysal==4.3.0 splot==1.1.3\n",
    "#!pip install esda"
   ]
  },
  {
   "cell_type": "code",
   "execution_count": 2,
   "metadata": {
    "colab": {},
    "colab_type": "code",
    "id": "X2i0GLyDioi4"
   },
   "outputs": [],
   "source": [
    "import pandas as pd\n",
    "import numpy as np\n",
    "import scipy.stats as stats\n",
    "\n",
    "# para gráficos\n",
    "%matplotlib inline\n",
    "import matplotlib.pyplot as plt\n",
    "import seaborn as sns\n",
    "# sns.set(style='whitegrid', palette='pastel') \n",
    "\n",
    "# para a análise de componentes principais\n",
    "from sklearn.decomposition import PCA\n",
    "from sklearn.preprocessing import scale\n",
    "\n",
    "# para a análise de dados espaciais\n",
    "import geopandas\n",
    "import splot\n",
    "import mapclassify as mc\n",
    "from libpysal.weights import Queen\n",
    "from esda import Moran, Moran_Local, G_Local\n",
    "from splot.esda import plot_moran, moran_scatterplot, lisa_cluster, plot_local_autocorrelation\n",
    "\n",
    "# para agrupamento - K-médias\n",
    "from scipy.cluster.hierarchy import dendrogram, linkage\n",
    "from scipy.spatial.distance import pdist\n",
    "from scipy.cluster.hierarchy import cut_tree\n",
    "from sklearn.cluster import KMeans, AgglomerativeClustering\n",
    "\n",
    "# para avaliar grupos \n",
    "from sklearn import metrics\n",
    "from sklearn.metrics import pairwise_distances\n",
    "from sklearn.metrics import davies_bouldin_score\n",
    "from sklearn.metrics.cluster import contingency_matrix\n"
   ]
  },
  {
   "cell_type": "markdown",
   "metadata": {
    "colab_type": "text",
    "id": "6TsFoe0cioiO"
   },
   "source": [
    "## Dados"
   ]
  },
  {
   "cell_type": "markdown",
   "metadata": {
    "colab_type": "text",
    "id": "gdjT57xAioiT"
   },
   "source": [
    "https://www.gov.br/agricultura/pt-br/assuntos/riscos-seguro/seguro-rural/relatorios-estatisticos"
   ]
  },
  {
   "cell_type": "code",
   "execution_count": 3,
   "metadata": {
    "colab": {},
    "colab_type": "code",
    "id": "SSvyjgFdHDoL"
   },
   "outputs": [],
   "source": [
    "link = 'https://raw.githubusercontent.com/walefmachado/spatial_cluster/master/data/'"
   ]
  },
  {
   "cell_type": "code",
   "execution_count": 4,
   "metadata": {
    "colab": {},
    "colab_type": "code",
    "id": "1RHA85O1iojF",
    "jupyter": {
     "outputs_hidden": true
    }
   },
   "outputs": [],
   "source": [
    "# função para deixar todos os nomes de municípios iguais (sem acento, sem espaço)\n",
    "def simplificar_nomes(df, variavel):\n",
    "  df[variavel] = (df[variavel].str.strip()\n",
    "                 .str.lower()\n",
    "                 .str.replace(' ', '_')\n",
    "                 .str.replace('\\'', '')\n",
    "                 .str.replace('-','_')\n",
    "                 .str.replace('á', 'a')\n",
    "                 .str.replace('é', 'e')\n",
    "                 .str.replace('í', 'i')\n",
    "                 .str.replace('ó', 'o')\n",
    "                 .str.replace('ú', 'u')\n",
    "                 .str.replace('â', 'a')\n",
    "                 .str.replace('ê', 'e')\n",
    "                 .str.replace('ô', 'o')\n",
    "                 .str.replace('í', 'i')\n",
    "                 .str.replace('ã','a')\n",
    "                 .str.replace('õ','o')\n",
    "                 .str.replace('ç','c')\n",
    "                 .str.replace('à', 'a')\n",
    "                 .str.replace('ü', 'u'))"
   ]
  },
  {
   "cell_type": "markdown",
   "metadata": {
    "colab_type": "text",
    "id": "9VtlHZKYiojU"
   },
   "source": [
    "### Dados de seguro rural"
   ]
  },
  {
   "cell_type": "code",
   "execution_count": 5,
   "metadata": {
    "colab": {
     "base_uri": "https://localhost:8080/",
     "height": 296
    },
    "colab_type": "code",
    "id": "FmYm2RsUiojW",
    "outputId": "50ee5935-a86b-40c2-83bf-932bf2bba8fa"
   },
   "outputs": [
    {
     "data": {
      "text/html": [
       "<div>\n",
       "<style scoped>\n",
       "    .dataframe tbody tr th:only-of-type {\n",
       "        vertical-align: middle;\n",
       "    }\n",
       "\n",
       "    .dataframe tbody tr th {\n",
       "        vertical-align: top;\n",
       "    }\n",
       "\n",
       "    .dataframe thead th {\n",
       "        text-align: right;\n",
       "    }\n",
       "</style>\n",
       "<table border=\"1\" class=\"dataframe\">\n",
       "  <thead>\n",
       "    <tr style=\"text-align: right;\">\n",
       "      <th></th>\n",
       "      <th>ano</th>\n",
       "      <th>uf</th>\n",
       "      <th>nome_mun</th>\n",
       "      <th>cultura</th>\n",
       "      <th>seguradora</th>\n",
       "      <th>evento_sinistro</th>\n",
       "      <th>apolices_contratadas</th>\n",
       "      <th>total_segurado_mil</th>\n",
       "      <th>soma_premio_total_mil</th>\n",
       "      <th>total_subvencao_mil</th>\n",
       "      <th>valor_indenizacoes_pagas_mil</th>\n",
       "      <th>sinistralidade_media</th>\n",
       "      <th>taxa_media</th>\n",
       "      <th>apolices_indenizadas</th>\n",
       "    </tr>\n",
       "  </thead>\n",
       "  <tbody>\n",
       "    <tr>\n",
       "      <th>0</th>\n",
       "      <td>2018</td>\n",
       "      <td>AC</td>\n",
       "      <td>Rio Branco</td>\n",
       "      <td>Pecuário</td>\n",
       "      <td>Mapfre</td>\n",
       "      <td>-</td>\n",
       "      <td>2</td>\n",
       "      <td>988246.80</td>\n",
       "      <td>9892.13</td>\n",
       "      <td>4451.45</td>\n",
       "      <td>0.00</td>\n",
       "      <td>0.0</td>\n",
       "      <td>0.01</td>\n",
       "      <td>0</td>\n",
       "    </tr>\n",
       "    <tr>\n",
       "      <th>1</th>\n",
       "      <td>2018</td>\n",
       "      <td>AL</td>\n",
       "      <td>Igaci</td>\n",
       "      <td>Milho 1ª safra</td>\n",
       "      <td>Aliança do Brasil</td>\n",
       "      <td>SECA</td>\n",
       "      <td>1</td>\n",
       "      <td>646644.90</td>\n",
       "      <td>51309.86</td>\n",
       "      <td>23089.44</td>\n",
       "      <td>514018.03</td>\n",
       "      <td>10018.0</td>\n",
       "      <td>79.00</td>\n",
       "      <td>1</td>\n",
       "    </tr>\n",
       "    <tr>\n",
       "      <th>2</th>\n",
       "      <td>2018</td>\n",
       "      <td>AL</td>\n",
       "      <td>Limoeiro de Anadia</td>\n",
       "      <td>Milho 1ª safra</td>\n",
       "      <td>Sancor</td>\n",
       "      <td>-</td>\n",
       "      <td>1</td>\n",
       "      <td>322882.69</td>\n",
       "      <td>29059.47</td>\n",
       "      <td>13076.76</td>\n",
       "      <td>0.00</td>\n",
       "      <td>0.0</td>\n",
       "      <td>0.09</td>\n",
       "      <td>0</td>\n",
       "    </tr>\n",
       "    <tr>\n",
       "      <th>3</th>\n",
       "      <td>2018</td>\n",
       "      <td>AL</td>\n",
       "      <td>Messias</td>\n",
       "      <td>Pecuário</td>\n",
       "      <td>Mapfre</td>\n",
       "      <td>-</td>\n",
       "      <td>1</td>\n",
       "      <td>386600.00</td>\n",
       "      <td>3869.78</td>\n",
       "      <td>1741.40</td>\n",
       "      <td>0.00</td>\n",
       "      <td>0.0</td>\n",
       "      <td>0.01</td>\n",
       "      <td>0</td>\n",
       "    </tr>\n",
       "    <tr>\n",
       "      <th>4</th>\n",
       "      <td>2018</td>\n",
       "      <td>AL</td>\n",
       "      <td>Santana do Mundaú</td>\n",
       "      <td>Pecuário</td>\n",
       "      <td>Mapfre</td>\n",
       "      <td>-</td>\n",
       "      <td>1</td>\n",
       "      <td>165920.00</td>\n",
       "      <td>1660.82</td>\n",
       "      <td>747.36</td>\n",
       "      <td>0.00</td>\n",
       "      <td>0.0</td>\n",
       "      <td>0.01</td>\n",
       "      <td>0</td>\n",
       "    </tr>\n",
       "  </tbody>\n",
       "</table>\n",
       "</div>"
      ],
      "text/plain": [
       "    ano  uf            nome_mun         cultura         seguradora  \\\n",
       "0  2018  AC          Rio Branco        Pecuário             Mapfre   \n",
       "1  2018  AL               Igaci  Milho 1ª safra  Aliança do Brasil   \n",
       "2  2018  AL  Limoeiro de Anadia  Milho 1ª safra             Sancor   \n",
       "3  2018  AL             Messias        Pecuário             Mapfre   \n",
       "4  2018  AL   Santana do Mundaú        Pecuário             Mapfre   \n",
       "\n",
       "  evento_sinistro  apolices_contratadas  total_segurado_mil  \\\n",
       "0               -                     2           988246.80   \n",
       "1            SECA                     1           646644.90   \n",
       "2               -                     1           322882.69   \n",
       "3               -                     1           386600.00   \n",
       "4               -                     1           165920.00   \n",
       "\n",
       "   soma_premio_total_mil  total_subvencao_mil  valor_indenizacoes_pagas_mil  \\\n",
       "0                9892.13              4451.45                          0.00   \n",
       "1               51309.86             23089.44                     514018.03   \n",
       "2               29059.47             13076.76                          0.00   \n",
       "3                3869.78              1741.40                          0.00   \n",
       "4                1660.82               747.36                          0.00   \n",
       "\n",
       "   sinistralidade_media  taxa_media  apolices_indenizadas  \n",
       "0                   0.0        0.01                     0  \n",
       "1               10018.0       79.00                     1  \n",
       "2                   0.0        0.09                     0  \n",
       "3                   0.0        0.01                     0  \n",
       "4                   0.0        0.01                     0  "
      ]
     },
     "execution_count": 5,
     "metadata": {},
     "output_type": "execute_result"
    }
   ],
   "source": [
    "dados18 = pd.read_csv(link+'/seguro18.csv', encoding='utf-8')\n",
    "dados18.head()"
   ]
  },
  {
   "cell_type": "code",
   "execution_count": 6,
   "metadata": {
    "colab": {
     "base_uri": "https://localhost:8080/",
     "height": 35
    },
    "colab_type": "code",
    "id": "1ycHEskdiojj",
    "outputId": "525bf6f2-6f22-449c-8c92-892a51ae6d48"
   },
   "outputs": [
    {
     "data": {
      "text/plain": [
       "(5570, 3)"
      ]
     },
     "execution_count": 6,
     "metadata": {},
     "output_type": "execute_result"
    }
   ],
   "source": [
    "dados = dados18\n",
    "cod = pd.read_csv(link+'/codigos-mun.csv')\n",
    "cod = cod[['mun', 'nome_mun', 'nome_meso']]\n",
    "cod.shape"
   ]
  },
  {
   "cell_type": "code",
   "execution_count": 7,
   "metadata": {
    "colab": {},
    "colab_type": "code",
    "id": "YZ0w6i6xiojz",
    "jupyter": {
     "outputs_hidden": true
    }
   },
   "outputs": [],
   "source": [
    "# simplificar os nomes dos municípios nos dois dataframes\n",
    "simplificar_nomes(cod, 'nome_mun')\n",
    "simplificar_nomes(dados, 'nome_mun')"
   ]
  },
  {
   "cell_type": "code",
   "execution_count": 8,
   "metadata": {
    "colab": {
     "base_uri": "https://localhost:8080/",
     "height": 35
    },
    "colab_type": "code",
    "id": "6s52pg5DiokB",
    "outputId": "5de575f8-5538-4078-8441-bab620cc8d3c"
   },
   "outputs": [
    {
     "data": {
      "text/plain": [
       "(15395, 16)"
      ]
     },
     "execution_count": 8,
     "metadata": {},
     "output_type": "execute_result"
    }
   ],
   "source": [
    "dados = dados.merge(cod, on='nome_mun', how='left')\n",
    "dados.shape"
   ]
  },
  {
   "cell_type": "code",
   "execution_count": 9,
   "metadata": {
    "colab": {},
    "colab_type": "code",
    "id": "1EBEyQM9iokK",
    "jupyter": {
     "outputs_hidden": true
    }
   },
   "outputs": [],
   "source": [
    "dados = dados.drop('ano', axis=1).groupby('mun').sum()"
   ]
  },
  {
   "cell_type": "code",
   "execution_count": 10,
   "metadata": {
    "colab": {},
    "colab_type": "code",
    "id": "Kr5eNn8wiokW",
    "jupyter": {
     "outputs_hidden": true
    }
   },
   "outputs": [],
   "source": [
    "dados.reset_index(level = 0, inplace = True)"
   ]
  },
  {
   "cell_type": "code",
   "execution_count": 11,
   "metadata": {
    "colab": {
     "base_uri": "https://localhost:8080/",
     "height": 35
    },
    "colab_type": "code",
    "id": "i7RsmoAMiokh",
    "outputId": "d4a68d9b-6dab-423c-a928-a3b9a6b53225"
   },
   "outputs": [
    {
     "data": {
      "text/plain": [
       "(2293, 9)"
      ]
     },
     "execution_count": 11,
     "metadata": {},
     "output_type": "execute_result"
    }
   ],
   "source": [
    "dados.shape"
   ]
  },
  {
   "cell_type": "code",
   "execution_count": 12,
   "metadata": {
    "colab": {},
    "colab_type": "code",
    "id": "vCqOp7Spiokq",
    "jupyter": {
     "outputs_hidden": true
    }
   },
   "outputs": [],
   "source": [
    "dados = dados.merge(cod, on='mun')"
   ]
  },
  {
   "cell_type": "code",
   "execution_count": 13,
   "metadata": {
    "colab": {
     "base_uri": "https://localhost:8080/",
     "height": 313
    },
    "colab_type": "code",
    "id": "U1RPZT1fiolD",
    "outputId": "48fc81a6-cb37-4f05-e1e6-ea56a399429e"
   },
   "outputs": [
    {
     "data": {
      "text/html": [
       "<div>\n",
       "<style scoped>\n",
       "    .dataframe tbody tr th:only-of-type {\n",
       "        vertical-align: middle;\n",
       "    }\n",
       "\n",
       "    .dataframe tbody tr th {\n",
       "        vertical-align: top;\n",
       "    }\n",
       "\n",
       "    .dataframe thead th {\n",
       "        text-align: right;\n",
       "    }\n",
       "</style>\n",
       "<table border=\"1\" class=\"dataframe\">\n",
       "  <thead>\n",
       "    <tr style=\"text-align: right;\">\n",
       "      <th></th>\n",
       "      <th>mun</th>\n",
       "      <th>apolices_contratadas</th>\n",
       "      <th>total_segurado_mil</th>\n",
       "      <th>soma_premio_total_mil</th>\n",
       "      <th>total_subvencao_mil</th>\n",
       "      <th>valor_indenizacoes_pagas_mil</th>\n",
       "      <th>sinistralidade_media</th>\n",
       "      <th>taxa_media</th>\n",
       "      <th>apolices_indenizadas</th>\n",
       "      <th>nome_mun</th>\n",
       "      <th>nome_meso</th>\n",
       "    </tr>\n",
       "  </thead>\n",
       "  <tbody>\n",
       "    <tr>\n",
       "      <th>0</th>\n",
       "      <td>1100023.0</td>\n",
       "      <td>1</td>\n",
       "      <td>2300000.00</td>\n",
       "      <td>18456.81</td>\n",
       "      <td>8305.56</td>\n",
       "      <td>0.00</td>\n",
       "      <td>0.0</td>\n",
       "      <td>8.00</td>\n",
       "      <td>0</td>\n",
       "      <td>ariquemes</td>\n",
       "      <td>Leste Rondoniense</td>\n",
       "    </tr>\n",
       "    <tr>\n",
       "      <th>1</th>\n",
       "      <td>1100056.0</td>\n",
       "      <td>2</td>\n",
       "      <td>195143.31</td>\n",
       "      <td>10732.87</td>\n",
       "      <td>4829.80</td>\n",
       "      <td>0.00</td>\n",
       "      <td>0.0</td>\n",
       "      <td>55.00</td>\n",
       "      <td>0</td>\n",
       "      <td>cerejeiras</td>\n",
       "      <td>Leste Rondoniense</td>\n",
       "    </tr>\n",
       "    <tr>\n",
       "      <th>2</th>\n",
       "      <td>1100072.0</td>\n",
       "      <td>2</td>\n",
       "      <td>2548975.13</td>\n",
       "      <td>222758.25</td>\n",
       "      <td>89103.30</td>\n",
       "      <td>0.00</td>\n",
       "      <td>0.0</td>\n",
       "      <td>87.00</td>\n",
       "      <td>0</td>\n",
       "      <td>corumbiara</td>\n",
       "      <td>Leste Rondoniense</td>\n",
       "    </tr>\n",
       "    <tr>\n",
       "      <th>3</th>\n",
       "      <td>1100130.0</td>\n",
       "      <td>1</td>\n",
       "      <td>153645.48</td>\n",
       "      <td>9218.72</td>\n",
       "      <td>4148.42</td>\n",
       "      <td>0.00</td>\n",
       "      <td>0.0</td>\n",
       "      <td>0.06</td>\n",
       "      <td>0</td>\n",
       "      <td>machadinho_doeste</td>\n",
       "      <td>Leste Rondoniense</td>\n",
       "    </tr>\n",
       "    <tr>\n",
       "      <th>4</th>\n",
       "      <td>1100403.0</td>\n",
       "      <td>2</td>\n",
       "      <td>154950.18</td>\n",
       "      <td>9028.44</td>\n",
       "      <td>4062.80</td>\n",
       "      <td>39291.79</td>\n",
       "      <td>4352.0</td>\n",
       "      <td>58.00</td>\n",
       "      <td>2</td>\n",
       "      <td>alto_paraiso</td>\n",
       "      <td>Leste Rondoniense</td>\n",
       "    </tr>\n",
       "  </tbody>\n",
       "</table>\n",
       "</div>"
      ],
      "text/plain": [
       "         mun  apolices_contratadas  total_segurado_mil  soma_premio_total_mil  \\\n",
       "0  1100023.0                     1          2300000.00               18456.81   \n",
       "1  1100056.0                     2           195143.31               10732.87   \n",
       "2  1100072.0                     2          2548975.13              222758.25   \n",
       "3  1100130.0                     1           153645.48                9218.72   \n",
       "4  1100403.0                     2           154950.18                9028.44   \n",
       "\n",
       "   total_subvencao_mil  valor_indenizacoes_pagas_mil  sinistralidade_media  \\\n",
       "0              8305.56                          0.00                   0.0   \n",
       "1              4829.80                          0.00                   0.0   \n",
       "2             89103.30                          0.00                   0.0   \n",
       "3              4148.42                          0.00                   0.0   \n",
       "4              4062.80                      39291.79                4352.0   \n",
       "\n",
       "   taxa_media  apolices_indenizadas           nome_mun          nome_meso  \n",
       "0        8.00                     0          ariquemes  Leste Rondoniense  \n",
       "1       55.00                     0         cerejeiras  Leste Rondoniense  \n",
       "2       87.00                     0         corumbiara  Leste Rondoniense  \n",
       "3        0.06                     0  machadinho_doeste  Leste Rondoniense  \n",
       "4       58.00                     2       alto_paraiso  Leste Rondoniense  "
      ]
     },
     "execution_count": 13,
     "metadata": {},
     "output_type": "execute_result"
    }
   ],
   "source": [
    "dados.head()"
   ]
  },
  {
   "cell_type": "code",
   "execution_count": 14,
   "metadata": {
    "colab": {},
    "colab_type": "code",
    "id": "0Xxg7Y7qiolN"
   },
   "outputs": [],
   "source": [
    "# retirar = ['sinistralidade_media', 'taxa_media']\n",
    "# dados = dados.drop(retirar, axis=1)\n",
    "# dados.head()"
   ]
  },
  {
   "cell_type": "code",
   "execution_count": 15,
   "metadata": {
    "colab": {},
    "colab_type": "code",
    "id": "dmdhvAoEiol9",
    "jupyter": {
     "outputs_hidden": true
    }
   },
   "outputs": [],
   "source": [
    "seguro = dados # não sei porque fiz isso.. rs "
   ]
  },
  {
   "cell_type": "markdown",
   "metadata": {
    "colab_type": "text",
    "id": "jerp9BSEiomJ"
   },
   "source": [
    "### Dados para espacial "
   ]
  },
  {
   "cell_type": "code",
   "execution_count": 16,
   "metadata": {
    "colab": {},
    "colab_type": "code",
    "id": "Ch9UjfE3iomK",
    "jupyter": {
     "outputs_hidden": true
    }
   },
   "outputs": [],
   "source": [
    "# seguro = pd.read_csv(link_p+'seguroagricola2017.csv', encoding='latin1') # troquei para 2018\n",
    "cod = pd.read_csv(link+'cod-nome-corrigido.csv', encoding='latin1')\n",
    "\n",
    "br = geopandas.read_file(link+'br.json')\n",
    "br = br.rename(columns={'CD_GEOCMU': 'mun'})\n",
    "br.mun = br.mun.astype(int)\n",
    "br2 = br.drop('NM_MUNICIP', axis=1)"
   ]
  },
  {
   "cell_type": "code",
   "execution_count": 17,
   "metadata": {
    "colab": {},
    "colab_type": "code",
    "id": "qJAcG0FEiomb",
    "jupyter": {
     "outputs_hidden": true
    }
   },
   "outputs": [],
   "source": [
    "cod_dados = cod.merge(br2, how='left')\n",
    "cod_dados = geopandas.GeoDataFrame(cod_dados) # Ate aqui junta geometry com todos os códigos "
   ]
  },
  {
   "cell_type": "code",
   "execution_count": 18,
   "metadata": {
    "colab": {},
    "colab_type": "code",
    "id": "jkK7ZyUviomp",
    "jupyter": {
     "outputs_hidden": true
    }
   },
   "outputs": [],
   "source": [
    "# apolices = seguro.groupby('nome_mun').apolices_contratadas.sum()\n",
    "# apolices = pd.DataFrame(apolices).reset_index()"
   ]
  },
  {
   "cell_type": "code",
   "execution_count": 19,
   "metadata": {
    "colab": {},
    "colab_type": "code",
    "id": "nmUiQZA-iomw"
   },
   "outputs": [],
   "source": [
    "dados_br = cod_dados.merge(seguro, how='left')"
   ]
  },
  {
   "cell_type": "code",
   "execution_count": 20,
   "metadata": {
    "colab": {},
    "colab_type": "code",
    "id": "Wl1sUsjgiom4",
    "jupyter": {
     "outputs_hidden": true
    }
   },
   "outputs": [],
   "source": [
    "dados_br = dados_br.fillna(0)\n",
    "dados_br = dados_br.drop([1525, 3499]) # retira F. Noronha e Ilhabela\n",
    "dados_br = dados_br.drop(['Unnamed: 0', 'rm'], axis = 1)"
   ]
  },
  {
   "cell_type": "code",
   "execution_count": 21,
   "metadata": {
    "colab": {
     "base_uri": "https://localhost:8080/",
     "height": 545
    },
    "colab_type": "code",
    "id": "uIkMDQUwionf",
    "outputId": "735814a3-75d7-452b-8c37-e75bdc4a32cd",
    "scrolled": true
   },
   "outputs": [
    {
     "data": {
      "image/png": "[encoded data removed]",
      "text/plain": [
       "<Figure size 720x720 with 1 Axes>"
      ]
     },
     "metadata": {
      "needs_background": "light"
     },
     "output_type": "display_data"
    }
   ],
   "source": [
    "# dados_br.plot(column='apolices', figsize=(10, 10), scheme='quantiles', cmap='OrRd', legend=True, k=4);\n",
    "dados_br.plot(column='nome_meso', figsize=(10, 10)); # , cmap='OrRd',  cmap='plasma'"
   ]
  },
  {
   "cell_type": "markdown",
   "metadata": {
    "colab_type": "text",
    "id": "R_VL-jc6Vw3w"
   },
   "source": [
    "## Centroides\n",
    "\n",
    "\n"
   ]
  },
  {
   "cell_type": "code",
   "execution_count": 22,
   "metadata": {
    "colab": {
     "base_uri": "https://localhost:8080/",
     "height": 198
    },
    "colab_type": "code",
    "id": "XJz-mg9NWCek",
    "outputId": "d868acfe-fad7-4c6d-b1db-5179a309080f"
   },
   "outputs": [
    {
     "name": "stderr",
     "output_type": "stream",
     "text": [
      "/home/walef/anaconda3/lib/python3.7/site-packages/ipykernel_launcher.py:1: UserWarning: Geometry is in a geographic CRS. Results from 'centroid' are likely incorrect. Use 'GeoSeries.to_crs()' to re-project geometries to a projected CRS before this operation.\n",
      "\n",
      "  \"\"\"Entry point for launching an IPython kernel.\n",
      "/home/walef/anaconda3/lib/python3.7/site-packages/ipykernel_launcher.py:3: UserWarning: Geometry is in a geographic CRS. Results from 'centroid' are likely incorrect. Use 'GeoSeries.to_crs()' to re-project geometries to a projected CRS before this operation.\n",
      "\n",
      "  This is separate from the ipykernel package so we can avoid doing imports until\n",
      "/home/walef/anaconda3/lib/python3.7/site-packages/ipykernel_launcher.py:4: UserWarning: Geometry is in a geographic CRS. Results from 'centroid' are likely incorrect. Use 'GeoSeries.to_crs()' to re-project geometries to a projected CRS before this operation.\n",
      "\n",
      "  after removing the cwd from sys.path.\n"
     ]
    }
   ],
   "source": [
    "dados_br.geometry.centroid.x\n",
    "\n",
    "dados_br['x_centroid'] = dados_br.geometry.centroid.x\n",
    "dados_br['y_centroid'] = dados_br.geometry.centroid.y"
   ]
  },
  {
   "cell_type": "code",
   "execution_count": 23,
   "metadata": {
    "colab": {},
    "colab_type": "code",
    "id": "I4gZbTLjWJCx"
   },
   "outputs": [],
   "source": [
    "dados_centroids = dados_br\n",
    "retirar = ['uf', 'nome_uf', 'mun', 'meso', 'nome_meso', \n",
    "           'micro', 'nome_micro', 'codmun6', 'regiao', \n",
    "           'nome_regiao'] # \n",
    "dados_centroids = dados_centroids.drop(retirar, axis = 1)"
   ]
  },
  {
   "cell_type": "markdown",
   "metadata": {
    "colab_type": "text",
    "id": "MxfAiXNAiY_7"
   },
   "source": [
    "## Análise de agrupamento - Centroides"
   ]
  },
  {
   "cell_type": "code",
   "execution_count": 24,
   "metadata": {
    "colab": {},
    "colab_type": "code",
    "id": "pE3ClSRgWJOO"
   },
   "outputs": [],
   "source": [
    "# subselecionar variáveis\n",
    "XX = scale(dados_centroids.drop(['nome_mun', 'geometry'], axis=1))# transformar em matriz (necessário para gerar o gráfico)\n",
    "# mudar o tipo dos dados\n",
    "XX = np.asarray(XX, dtype=float)\n",
    "n = XX.shape[0]\n",
    "p = XX.shape[1]\n",
    "# vetor de médias\n",
    "Xb = np.mean(XX, axis=0)\n",
    "# matriz de covariâncias\n",
    "S = np.cov(XX.T)\n",
    "# matriz de somas de quadrados e produtos\n",
    "W = (n - 1) * S"
   ]
  },
  {
   "cell_type": "code",
   "execution_count": 25,
   "metadata": {
    "colab": {},
    "colab_type": "code",
    "id": "HFP7YAQeWJX2"
   },
   "outputs": [],
   "source": [
    "Z = linkage(XX, method='ward')"
   ]
  },
  {
   "cell_type": "code",
   "execution_count": 26,
   "metadata": {
    "colab": {},
    "colab_type": "code",
    "id": "nxzpvLOmWJpQ"
   },
   "outputs": [],
   "source": [
    "max_d = 0\n",
    "grupos = cut_tree(Z, height=max_d)"
   ]
  },
  {
   "cell_type": "code",
   "execution_count": 27,
   "metadata": {
    "colab": {
     "base_uri": "https://localhost:8080/",
     "height": 477
    },
    "colab_type": "code",
    "id": "M82qdpGkWJta",
    "outputId": "87103091-e09a-4664-a557-8b5a288edfbe"
   },
   "outputs": [
    {
     "data": {
      "image/png": "[encoded data removed]",
      "text/plain": [
       "<Figure size 1080x504 with 1 Axes>"
      ]
     },
     "metadata": {
      "needs_background": "light"
     },
     "output_type": "display_data"
    }
   ],
   "source": [
    "fig, ax = plt.subplots(figsize=(15, 7))\n",
    "ax = dendrogram(\n",
    "    Z,\n",
    "    truncate_mode='lastp',  # mostrar apenas os p últimos grupos formados\n",
    "    p=5,  # quantos passos mostrar\n",
    "    show_leaf_counts=True,  # mostrar quantas observações há em cada grupo entre parênteses\n",
    "    leaf_rotation=90., # rotação\n",
    "    leaf_font_size=10., # tamanho da fonte\n",
    "    labels=dados.index, # rótulos do eixo x\n",
    "    show_contracted=True,  # to get a distribution impression in truncated branches,\n",
    "    above_threshold_color='black',\n",
    "    color_threshold=0.1, # para que todas as linhas sejam da mesma cor\n",
    "    # color_threshold=max_d, # para que os grupos fiquem com cores diferentes\n",
    ")\n",
    "plt.axhline(y=max_d, c='grey', lw=1, linestyle='dashed')\n",
    "plt.xlabel('município')\n",
    "plt.ylabel('distância');"
   ]
  },
  {
   "cell_type": "markdown",
   "metadata": {
    "colab_type": "text",
    "id": "b09sh5SyWYeB"
   },
   "source": [
    "Método escolhido:"
   ]
  },
  {
   "cell_type": "code",
   "execution_count": 28,
   "metadata": {
    "colab": {},
    "colab_type": "code",
    "id": "HC01l7tWWJyy"
   },
   "outputs": [
    {
     "ename": "NameError",
     "evalue": "name 'X' is not defined",
     "output_type": "error",
     "traceback": [
      "\u001b[0;31m---------------------------------------------------------------------------\u001b[0m",
      "\u001b[0;31mNameError\u001b[0m                                 Traceback (most recent call last)",
      "\u001b[0;32m<ipython-input-28-eb3ad472b645>\u001b[0m in \u001b[0;36m<module>\u001b[0;34m\u001b[0m\n\u001b[0;32m----> 1\u001b[0;31m \u001b[0mZ\u001b[0m \u001b[0;34m=\u001b[0m \u001b[0mlinkage\u001b[0m\u001b[0;34m(\u001b[0m\u001b[0mX\u001b[0m\u001b[0;34m,\u001b[0m \u001b[0mmethod\u001b[0m\u001b[0;34m=\u001b[0m\u001b[0;34m'ward'\u001b[0m\u001b[0;34m)\u001b[0m\u001b[0;34m\u001b[0m\u001b[0;34m\u001b[0m\u001b[0m\n\u001b[0m",
      "\u001b[0;31mNameError\u001b[0m: name 'X' is not defined"
     ]
    }
   ],
   "source": [
    "Z = linkage(X, method='ward')"
   ]
  },
  {
   "cell_type": "code",
   "execution_count": null,
   "metadata": {
    "colab": {},
    "colab_type": "code",
    "id": "wpZYLHrpWJV8"
   },
   "outputs": [],
   "source": [
    "## definir a distância de corte baseando no dendrograma\n",
    "max_d = 75\n",
    "grupos = cut_tree(Z, height=max_d)"
   ]
  },
  {
   "cell_type": "markdown",
   "metadata": {
    "colab_type": "text",
    "id": "YNZo2kIPe5b3"
   },
   "source": [
    "### Métricas"
   ]
  },
  {
   "cell_type": "code",
   "execution_count": null,
   "metadata": {
    "colab": {
     "base_uri": "https://localhost:8080/",
     "height": 35
    },
    "colab_type": "code",
    "id": "zeqg1UXhfPTb",
    "outputId": "e10f4986-48d0-4976-bef4-8169c0614565"
   },
   "outputs": [],
   "source": [
    "# métricas\n",
    "print(\n",
    "  round(metrics.calinski_harabasz_score(X, grupos.ravel()),2),\n",
    "  round(davies_bouldin_score(X, grupos.ravel()),2),\n",
    "  round(metrics.silhouette_score(X, grupos.ravel(), metric='euclidean'),2)  \n",
    ")"
   ]
  },
  {
   "cell_type": "code",
   "execution_count": null,
   "metadata": {
    "colab": {},
    "colab_type": "code",
    "id": "bo70NLAvWJTM"
   },
   "outputs": [],
   "source": [
    "# incluir no dataframe de dados as informações sobre a qual grupo cada observação pertence\n",
    "dados_centroids['grupo'] = grupos\n",
    "# moran_matrix.head(2)"
   ]
  },
  {
   "cell_type": "code",
   "execution_count": null,
   "metadata": {
    "colab": {
     "base_uri": "https://localhost:8080/",
     "height": 106
    },
    "colab_type": "code",
    "id": "ehx0naP3WhQc",
    "outputId": "48df5256-3f1b-453b-ae28-37429c5653a5"
   },
   "outputs": [],
   "source": [
    "# contagem de observações em cada grupo\n",
    "dados_centroids.grupo.value_counts()"
   ]
  },
  {
   "cell_type": "code",
   "execution_count": null,
   "metadata": {
    "colab": {
     "base_uri": "https://localhost:8080/",
     "height": 226
    },
    "colab_type": "code",
    "id": "VTiKWoQoWhxu",
    "outputId": "666f1339-469a-46c5-a599-216ade2038f5"
   },
   "outputs": [],
   "source": [
    "# média dos grupos - todas as variáveis\n",
    "# inclusive as não utilizadas para agrupar\n",
    "dados_centroids.groupby('grupo').mean()"
   ]
  },
  {
   "cell_type": "code",
   "execution_count": null,
   "metadata": {
    "colab": {
     "base_uri": "https://localhost:8080/",
     "height": 226
    },
    "colab_type": "code",
    "id": "HG5OYGOSWh5U",
    "outputId": "f77f8449-851d-4aec-f007-88d8c332bf1d"
   },
   "outputs": [],
   "source": [
    "# mediana das variáveis para cada grupo\n",
    "dados_centroids.groupby('grupo').median()"
   ]
  },
  {
   "cell_type": "markdown",
   "metadata": {
    "colab_type": "text",
    "id": "avRFMaCpWvCJ"
   },
   "source": [
    "### As observações de cada grupo"
   ]
  },
  {
   "cell_type": "code",
   "execution_count": null,
   "metadata": {
    "colab": {},
    "colab_type": "code",
    "id": "yCQBgkT6Wh-0"
   },
   "outputs": [],
   "source": [
    "#grupo0 = dados.query('grupo == 0').index\n",
    "#list(grupo0)"
   ]
  },
  {
   "cell_type": "markdown",
   "metadata": {
    "colab_type": "text",
    "id": "tYisny7YifBT"
   },
   "source": [
    "### Mapa Grupos Centroides"
   ]
  },
  {
   "cell_type": "code",
   "execution_count": null,
   "metadata": {
    "colab": {},
    "colab_type": "code",
    "id": "rYekv3jmWh2e"
   },
   "outputs": [],
   "source": [
    "dados_centroids['grupo'] = dados_centroids['grupo'].astype('category')"
   ]
  },
  {
   "cell_type": "code",
   "execution_count": null,
   "metadata": {
    "colab": {
     "base_uri": "https://localhost:8080/",
     "height": 545
    },
    "colab_type": "code",
    "id": "u3V5YAxtW0h6",
    "outputId": "b6906cd4-3d27-4af9-aef0-637cb0a3df2c",
    "scrolled": true
   },
   "outputs": [],
   "source": [
    "dados_centroids.plot(column='grupo', figsize=(10, 10), legend=True, cmap='plasma'); # , cmap='OrRd'"
   ]
  },
  {
   "cell_type": "markdown",
   "metadata": {
    "colab_type": "text",
    "id": "4jfN_wvRW3sw"
   },
   "source": [
    "## K-Médias"
   ]
  },
  {
   "cell_type": "code",
   "execution_count": null,
   "metadata": {
    "colab": {
     "base_uri": "https://localhost:8080/",
     "height": 291
    },
    "colab_type": "code",
    "id": "ZTtaELmYXH_K",
    "outputId": "143e5247-d27d-4162-9cba-3f6c85726c64"
   },
   "outputs": [],
   "source": [
    "# SQDG\n",
    "SQDG = {}\n",
    "for k in range(1, 10):\n",
    "    kmeans = KMeans(n_clusters=k, max_iter=1000).fit(dados_centroids.drop(['nome_mun', 'geometry'], axis=1))\n",
    "    dados_centroids['grupos'] = kmeans.labels_\n",
    "    SQDG[k] = kmeans.inertia_ # Inertia: soma das distâncias das obs. ao centro mais próximo\n",
    "plt.figure()\n",
    "plt.plot(list(SQDG.keys()), list(SQDG.values()))\n",
    "plt.xlabel('Número de grupos (k)')\n",
    "plt.ylabel('SQDG');"
   ]
  },
  {
   "cell_type": "code",
   "execution_count": null,
   "metadata": {
    "colab": {},
    "colab_type": "code",
    "id": "SjFtSfAQXH76"
   },
   "outputs": [],
   "source": [
    "k = 4"
   ]
  },
  {
   "cell_type": "code",
   "execution_count": null,
   "metadata": {
    "colab": {},
    "colab_type": "code",
    "id": "6B4ALZXdXH5D"
   },
   "outputs": [],
   "source": [
    "kmeans = KMeans(n_clusters=k, random_state=10).fit(X)"
   ]
  },
  {
   "cell_type": "code",
   "execution_count": null,
   "metadata": {
    "colab": {},
    "colab_type": "code",
    "id": "h-_IRFDaXH12"
   },
   "outputs": [],
   "source": [
    "# incluir no resultado dos escores dos dois primeiros CPs a informação sobre os grupos obtidos \n",
    "# com o método das k-médias\n",
    "dados_centroids['grupo'] = kmeans.labels_"
   ]
  },
  {
   "cell_type": "markdown",
   "metadata": {
    "colab_type": "text",
    "id": "JDNOiq5Zgs5E"
   },
   "source": [
    "### Métricas"
   ]
  },
  {
   "cell_type": "code",
   "execution_count": null,
   "metadata": {
    "colab": {
     "base_uri": "https://localhost:8080/",
     "height": 35
    },
    "colab_type": "code",
    "id": "pPCI3v9AgxA-",
    "outputId": "43ee4fcb-387c-4f14-ab83-7b3d9d59eee1"
   },
   "outputs": [],
   "source": [
    "print(\n",
    "  round(metrics.calinski_harabasz_score(X, kmeans.labels_),2),\n",
    "  round(davies_bouldin_score(X, kmeans.labels_),2),\n",
    "  round(metrics.silhouette_score(X, kmeans.labels_, metric='euclidean'),2)  \n",
    ")"
   ]
  },
  {
   "cell_type": "code",
   "execution_count": null,
   "metadata": {
    "colab": {
     "base_uri": "https://localhost:8080/",
     "height": 106
    },
    "colab_type": "code",
    "id": "QLug7gEXXHy1",
    "outputId": "16686780-5957-45ad-e57f-00cd23902aa5"
   },
   "outputs": [],
   "source": [
    "# contagens\n",
    "dados_centroids.grupo.value_counts()"
   ]
  },
  {
   "cell_type": "code",
   "execution_count": null,
   "metadata": {
    "colab": {
     "base_uri": "https://localhost:8080/",
     "height": 226
    },
    "colab_type": "code",
    "id": "YXMpHCdXXHuP",
    "outputId": "d1ecb933-2e33-443c-984b-7d78565adc51"
   },
   "outputs": [],
   "source": [
    "# média dos grupos - todas as variáveis\n",
    "# inclusive as não utilizadas para agrupar\n",
    "dados_centroids.groupby('grupo').mean()"
   ]
  },
  {
   "cell_type": "code",
   "execution_count": null,
   "metadata": {
    "colab": {
     "base_uri": "https://localhost:8080/",
     "height": 226
    },
    "colab_type": "code",
    "id": "7XxW0GOHXHp1",
    "outputId": "21c21956-c179-4be3-932e-be49f721a774"
   },
   "outputs": [],
   "source": [
    "# mediana das variáveis para cada grupo\n",
    "dados_centroids.groupby('grupo').median()"
   ]
  },
  {
   "cell_type": "code",
   "execution_count": null,
   "metadata": {
    "colab": {},
    "colab_type": "code",
    "id": "Gjhxw4O2XHme"
   },
   "outputs": [],
   "source": [
    "#grupo0 = mg.query('grupo == 0').index\n",
    "#list(grupo0)"
   ]
  },
  {
   "cell_type": "markdown",
   "metadata": {
    "colab_type": "text",
    "id": "PdHARRixjIvL"
   },
   "source": [
    "### Mapa Grupos Centroide K-médias"
   ]
  },
  {
   "cell_type": "code",
   "execution_count": null,
   "metadata": {
    "colab": {},
    "colab_type": "code",
    "id": "jr6GaytKXHh8"
   },
   "outputs": [],
   "source": [
    "dados_centroids['grupo'] = dados_centroids['grupo'].astype('category')"
   ]
  },
  {
   "cell_type": "code",
   "execution_count": null,
   "metadata": {
    "colab": {
     "base_uri": "https://localhost:8080/",
     "height": 545
    },
    "colab_type": "code",
    "id": "otkgzy_GXHcB",
    "outputId": "7f525747-8440-4e51-9d9a-c46f95bc81f0"
   },
   "outputs": [],
   "source": [
    "dados_centroids.plot(column='grupo', figsize=(10, 10), legend=True, cmap='plasma'); # , cmap='OrRd'"
   ]
  },
  {
   "cell_type": "code",
   "execution_count": null,
   "metadata": {},
   "outputs": [],
   "source": []
  },
  {
   "cell_type": "markdown",
   "metadata": {
    "colab_type": "text",
    "id": "4jfN_wvRW3sw"
   },
   "source": [
    "##  Spatially Constrained Hierarchical Clustering - K-Médias"
   ]
  },
  {
   "cell_type": "code",
   "execution_count": null,
   "metadata": {},
   "outputs": [],
   "source": [
    "w = Queen.from_dataframe(dados_br)\n",
    "w.transform = 'r'"
   ]
  },
  {
   "cell_type": "code",
   "execution_count": null,
   "metadata": {},
   "outputs": [],
   "source": [
    "model = AgglomerativeClustering(distance_threshold=80, linkage='ward', connectivity=w.sparse,  n_clusters=None)\n",
    "model.fit(XX)"
   ]
  },
  {
   "cell_type": "code",
   "execution_count": null,
   "metadata": {},
   "outputs": [],
   "source": [
    "dados_centroids['grupo'] = model.labels_"
   ]
  },
  {
   "cell_type": "code",
   "execution_count": null,
   "metadata": {
    "colab": {},
    "colab_type": "code",
    "id": "rYekv3jmWh2e"
   },
   "outputs": [],
   "source": [
    "dados_centroids['grupo'] = dados_centroids['grupo'].astype('category')"
   ]
  },
  {
   "cell_type": "code",
   "execution_count": null,
   "metadata": {
    "colab": {
     "base_uri": "https://localhost:8080/",
     "height": 545
    },
    "colab_type": "code",
    "id": "u3V5YAxtW0h6",
    "outputId": "b6906cd4-3d27-4af9-aef0-637cb0a3df2c"
   },
   "outputs": [],
   "source": [
    "dados_centroids.plot(column='grupo', figsize=(10, 10), legend=True, cmap='plasma'); # , cmap='OrRd'"
   ]
  },
  {
   "cell_type": "code",
   "execution_count": null,
   "metadata": {},
   "outputs": [],
   "source": []
  },
  {
   "cell_type": "markdown",
   "metadata": {
    "colab_type": "text",
    "id": "MxfAiXNAiY_7"
   },
   "source": [
    "## Análise de agrupamento - Centroides - Outra distância"
   ]
  },
  {
   "cell_type": "code",
   "execution_count": null,
   "metadata": {},
   "outputs": [],
   "source": [
    "def plot_dendrogram(model, **kwargs):\n",
    "    # Create linkage matrix and then plot the dendrogram\n",
    "\n",
    "    # create the counts of samples under each node\n",
    "    counts = np.zeros(model.children_.shape[0])\n",
    "    n_samples = len(model.labels_)\n",
    "    for i, merge in enumerate(model.children_):\n",
    "        current_count = 0\n",
    "        for child_idx in merge:\n",
    "            if child_idx < n_samples:\n",
    "                current_count += 1  # leaf node\n",
    "            else:\n",
    "                current_count += counts[child_idx - n_samples]\n",
    "        counts[i] = current_count\n",
    "\n",
    "    linkage_matrix = np.column_stack([model.children_, model.distances_,\n",
    "                                      counts]).astype(float)\n",
    "\n",
    "    # Plot the corresponding dendrogram\n",
    "    dendrogram(linkage_matrix, **kwargs)"
   ]
  },
  {
   "cell_type": "code",
   "execution_count": null,
   "metadata": {},
   "outputs": [],
   "source": [
    "# setting distance_threshold=0 ensures we compute the full tree.\n",
    "model = AgglomerativeClustering(distance_threshold=120, n_clusters=None, affinity='manhattan', linkage='average')\n",
    "\n",
    "model = model.fit(XX)''\n",
    "plt.subplots(figsize=(15, 7))\n",
    "plt.title('Hierarchical Clustering Dendrogram')\n",
    "# plot the top three levels of the dendrogram\n",
    "plot_dendrogram(model, truncate_mode='level', p=3, color_threshold=0.1)\n",
    "plt.xlabel(\"Number of points in node (or index of point if no parenthesis).\")\n",
    "plt.show()"
   ]
  },
  {
   "cell_type": "markdown",
   "metadata": {
    "colab_type": "text",
    "id": "YNZo2kIPe5b3"
   },
   "source": [
    "### Métricas"
   ]
  },
  {
   "cell_type": "code",
   "execution_count": null,
   "metadata": {
    "colab": {
     "base_uri": "https://localhost:8080/",
     "height": 35
    },
    "colab_type": "code",
    "id": "zeqg1UXhfPTb",
    "outputId": "e10f4986-48d0-4976-bef4-8169c0614565"
   },
   "outputs": [],
   "source": [
    "# métricas\n",
    "print(\n",
    "  round(metrics.calinski_harabasz_score(X, grupos.ravel()),2),\n",
    "  round(davies_bouldin_score(X, grupos.ravel()),2),\n",
    "  round(metrics.silhouette_score(X, grupos.ravel(), metric='euclidean'),2)  \n",
    ")"
   ]
  },
  {
   "cell_type": "code",
   "execution_count": null,
   "metadata": {
    "colab": {},
    "colab_type": "code",
    "id": "bo70NLAvWJTM"
   },
   "outputs": [],
   "source": [
    "# incluir no dataframe de dados as informações sobre a qual grupo cada observação pertence\n",
    "dados_centroids['grupo'] = model.labels_\n",
    "# moran_matrix.head(2)"
   ]
  },
  {
   "cell_type": "code",
   "execution_count": null,
   "metadata": {
    "colab": {
     "base_uri": "https://localhost:8080/",
     "height": 106
    },
    "colab_type": "code",
    "id": "ehx0naP3WhQc",
    "outputId": "48df5256-3f1b-453b-ae28-37429c5653a5"
   },
   "outputs": [],
   "source": [
    "# contagem de observações em cada grupo\n",
    "dados_centroids.grupo.value_counts()"
   ]
  },
  {
   "cell_type": "markdown",
   "metadata": {
    "colab_type": "text",
    "id": "tYisny7YifBT"
   },
   "source": [
    "### Mapa Grupos Centroides"
   ]
  },
  {
   "cell_type": "code",
   "execution_count": null,
   "metadata": {
    "colab": {},
    "colab_type": "code",
    "id": "rYekv3jmWh2e"
   },
   "outputs": [],
   "source": [
    "dados_centroids['grupo'] = dados_centroids['grupo'].astype('category')"
   ]
  },
  {
   "cell_type": "code",
   "execution_count": null,
   "metadata": {
    "colab": {
     "base_uri": "https://localhost:8080/",
     "height": 545
    },
    "colab_type": "code",
    "id": "u3V5YAxtW0h6",
    "outputId": "b6906cd4-3d27-4af9-aef0-637cb0a3df2c"
   },
   "outputs": [],
   "source": [
    "dados_centroids.plot(column='grupo', figsize=(10, 10), legend=True, cmap='plasma'); # , cmap='OrRd'"
   ]
  },
  {
   "cell_type": "code",
   "execution_count": null,
   "metadata": {},
   "outputs": [],
   "source": []
  }
 ],
 "metadata": {
  "kernelspec": {
   "display_name": "Python 3",
   "language": "python",
   "name": "python3"
  },
  "language_info": {
   "codemirror_mode": {
    "name": "ipython",
    "version": 3
   },
   "file_extension": ".py",
   "mimetype": "text/x-python",
   "name": "python",
   "nbconvert_exporter": "python",
   "pygments_lexer": "ipython3",
   "version": "3.7.6"
  }
 },
 "nbformat": 4,
 "nbformat_minor": 4
}
